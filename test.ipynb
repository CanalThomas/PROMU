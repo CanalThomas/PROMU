{
 "cells": [
  {
   "cell_type": "code",
   "execution_count": null,
   "metadata": {},
   "outputs": [],
   "source": [
    "# !pip install mido python-rtmidi"
   ]
  },
  {
   "cell_type": "code",
   "execution_count": 96,
   "metadata": {},
   "outputs": [],
   "source": [
    "import mido\n",
    "import time"
   ]
  },
  {
   "cell_type": "code",
   "execution_count": 2,
   "metadata": {},
   "outputs": [
    {
     "data": {
      "text/plain": [
       "['Erae Touch 0', 'MIDIIN2 (Erae Touch) 1', 'Akai APC40 2', 'Akai APC40 2']"
      ]
     },
     "execution_count": 2,
     "metadata": {},
     "output_type": "execute_result"
    }
   ],
   "source": [
    "open_ports = mido.get_input_names()\n",
    "open_ports"
   ]
  },
  {
   "cell_type": "code",
   "execution_count": 104,
   "metadata": {},
   "outputs": [],
   "source": [
    "record_time = 5.0  # seconds\n",
    "start_time = time.time()\n",
    "messages = []\n",
    "\n",
    "def do_whateverA(arg: mido.messages.messages.Message):\n",
    "    match arg.type:\n",
    "        case \"note_on\":\n",
    "            message = {\n",
    "                \"controller\": \"A\",\n",
    "                \"type\": arg.type,\n",
    "                # \"channel\": arg.channel,\n",
    "                # \"note\": arg.note,\n",
    "                # \"velocity\": arg.velocity,\n",
    "                \"time\": time.time() - start_time,\n",
    "                # \"arg\": arg,\n",
    "            }\n",
    "            messages.append(message)\n",
    "        case \"control_change\":\n",
    "            message = {\n",
    "                \"controller\": \"A\",\n",
    "                \"type\": arg.type,\n",
    "                # \"channel\": arg.channel,\n",
    "                \"control\": arg.control,\n",
    "                \"value\": arg.value,\n",
    "                \"time\": time.time() - start_time,\n",
    "                # \"arg\": arg,\n",
    "            }\n",
    "            messages.append(message)\n",
    "        case _:\n",
    "            pass\n",
    "\n",
    "def do_whateverB(arg: mido.messages.messages.Message):\n",
    "    match arg.type:\n",
    "        case \"note_on\":\n",
    "            message = {\n",
    "                \"controller\": \"B\",\n",
    "                \"type\": arg.type,\n",
    "                \"channel\": arg.channel,\n",
    "                \"note\": arg.note,\n",
    "                \"velocity\": arg.velocity,\n",
    "                \"time\": time.time() - start_time,\n",
    "                # \"arg\": arg,\n",
    "            }\n",
    "            messages.append(message)\n",
    "        case \"control_change\":\n",
    "            message = {\n",
    "                \"controller\": \"B\",\n",
    "                \"type\": arg.type,\n",
    "                \"channel\": arg.channel,\n",
    "                \"control\": arg.control,\n",
    "                \"value\": arg.value,\n",
    "                \"time\": time.time() - start_time,\n",
    "                # \"arg\": arg,\n",
    "            }\n",
    "            messages.append(message)\n",
    "        case _:\n",
    "            pass\n",
    "\n",
    "portA = mido.open_input(open_ports[0], callback=do_whateverA)\n",
    "# portB = mido.open_input(open_ports[1], callback=do_whatever)\n",
    "portC = mido.open_input(open_ports[2], callback=do_whateverB)\n",
    "# portD = mido.open_input(open_ports[3], callback=do_whatever)\n",
    "time.sleep(record_time)\n",
    "# portD.close()\n",
    "portC.close()\n",
    "# portB.close()\n",
    "portA.close()"
   ]
  },
  {
   "cell_type": "code",
   "execution_count": null,
   "metadata": {},
   "outputs": [],
   "source": [
    "for mess in filter(lambda d: d[\"controller\"] == \"A\" and d[\"type\"] == \"note_on\", messages):\n",
    "    print(mess)"
   ]
  },
  {
   "cell_type": "code",
   "execution_count": null,
   "metadata": {},
   "outputs": [],
   "source": [
    "for mess in filter(lambda d: d[\"controller\"] == \"A\" and d[\"type\"] == \"control_change\", messages):\n",
    "    print(mess)"
   ]
  },
  {
   "cell_type": "code",
   "execution_count": null,
   "metadata": {},
   "outputs": [],
   "source": [
    "for mess in filter(lambda d: d[\"controller\"] == \"A\" and d[\"type\"] == \"control_change\", messages):\n",
    "    print(mess)"
   ]
  },
  {
   "cell_type": "code",
   "execution_count": 105,
   "metadata": {},
   "outputs": [],
   "source": [
    "X, Y = [], []\n",
    "# iteration sur les impacts\n",
    "for i, mess in enumerate(filter(lambda d: d[\"controller\"] == \"A\" and d[\"type\"] == \"note_on\", messages)):\n",
    "    # on prend les control_change qui suivent\n",
    "    first_X = next(filter(lambda d: d[\"controller\"] == \"A\" and d[\"type\"] == \"control_change\" and d[\"control\"] == 60 and d[\"time\"] >= mess[\"time\"], messages))\n",
    "    first_Y = next(filter(lambda d: d[\"controller\"] == \"A\" and d[\"type\"] == \"control_change\" and d[\"control\"] == 61 and d[\"time\"] >= mess[\"time\"], messages))\n",
    "    X.append(first_X[\"value\"])\n",
    "    Y.append(first_Y[\"value\"])"
   ]
  },
  {
   "cell_type": "code",
   "execution_count": 106,
   "metadata": {},
   "outputs": [],
   "source": [
    "import json\n",
    "\n",
    "with open(\"X.json\", \"w\") as f:\n",
    "    json.dump(X, f)\n",
    "\n",
    "with open(\"Y.json\", \"w\") as g:\n",
    "    json.dump(Y, g)"
   ]
  },
  {
   "cell_type": "code",
   "execution_count": 101,
   "metadata": {},
   "outputs": [],
   "source": [
    "import json\n",
    "\n",
    "with open(\"X.json\", \"r\") as f:\n",
    "    X = json.load(f)\n",
    "\n",
    "with open(\"Y.json\", \"r\") as g:\n",
    "    Y = json.load(g)"
   ]
  },
  {
   "cell_type": "code",
   "execution_count": 103,
   "metadata": {},
   "outputs": [
    {
     "data": {
      "text/plain": [
       "<matplotlib.collections.PathCollection at 0x25fb9242b30>"
      ]
     },
     "execution_count": 103,
     "metadata": {},
     "output_type": "execute_result"
    },
    {
     "data": {
      "image/png": "[encoded data removed]",
      "text/plain": [
       "<Figure size 640x480 with 1 Axes>"
      ]
     },
     "metadata": {},
     "output_type": "display_data"
    }
   ],
   "source": [
    "import matplotlib.pyplot as plt\n",
    "fig, ax = plt.subplots()\n",
    "ax.set_xlim(0, 128)\n",
    "ax.set_ylim(0, 128)\n",
    "ax.scatter(X, Y)"
   ]
  },
  {
   "cell_type": "code",
   "execution_count": 52,
   "metadata": {},
   "outputs": [],
   "source": [
    "X, Y, t = [], [], []\n",
    "for mess in filter(lambda d: d[\"controller\"] == \"A\" and d[\"type\"] == \"control_change\", messages):\n",
    "    match mess[\"control\"]:\n",
    "        case 60:\n",
    "            try:\n",
    "                X.append(mess[\"value\"])\n",
    "                Y.append(Y[-1])\n",
    "            except:\n",
    "                pass\n",
    "        case 61:\n",
    "            try:\n",
    "                Y.append(mess[\"value\"])\n",
    "                X.append(X[-1])\n",
    "            except:\n",
    "                pass"
   ]
  },
  {
   "cell_type": "code",
   "execution_count": 53,
   "metadata": {},
   "outputs": [
    {
     "data": {
      "text/plain": [
       "[<matplotlib.lines.Line2D at 0x25fb90f9bd0>]"
      ]
     },
     "execution_count": 53,
     "metadata": {},
     "output_type": "execute_result"
    },
    {
     "data": {
      "image/png": "[encoded data removed]",
      "text/plain": [
       "<Figure size 640x480 with 1 Axes>"
      ]
     },
     "metadata": {},
     "output_type": "display_data"
    }
   ],
   "source": [
    "import matplotlib.pyplot as plt\n",
    "fig, ax = plt.subplots()\n",
    "min_size = min(len(X), len(Y))\n",
    "ax.plot(X[:min_size], Y[:min_size])"
   ]
  },
  {
   "cell_type": "code",
   "execution_count": 21,
   "metadata": {},
   "outputs": [],
   "source": [
    "for mess in filter(lambda d: d[\"controller\"] == \"B\" and d[\"type\"] == \"note_on\", messages):\n",
    "    print(mess)\n",
    "    break"
   ]
  },
  {
   "cell_type": "code",
   "execution_count": 24,
   "metadata": {},
   "outputs": [
    {
     "name": "stdout",
     "output_type": "stream",
     "text": [
      "control_change channel=0 control=52 value=0 time=0\n",
      "control_change channel=0 control=52 value=0 time=0\n",
      "control_change channel=0 control=52 value=0 time=0\n",
      "control_change channel=0 control=52 value=0 time=0\n",
      "control_change channel=0 control=52 value=0 time=0\n",
      "control_change channel=0 control=52 value=0 time=0\n",
      "control_change channel=0 control=52 value=0 time=0\n",
      "control_change channel=0 control=52 value=0 time=0\n",
      "control_change channel=0 control=52 value=0 time=0\n",
      "control_change channel=0 control=52 value=0 time=0\n",
      "control_change channel=0 control=52 value=0 time=0\n",
      "control_change channel=0 control=52 value=0 time=0\n",
      "control_change channel=0 control=52 value=0 time=0\n",
      "control_change channel=0 control=52 value=0 time=0\n",
      "control_change channel=0 control=52 value=0 time=0\n",
      "control_change channel=0 control=52 value=0 time=0\n",
      "control_change channel=0 control=52 value=0 time=0\n",
      "control_change channel=0 control=52 value=0 time=0\n",
      "control_change channel=0 control=52 value=0 time=0\n",
      "control_change channel=0 control=52 value=0 time=0\n",
      "control_change channel=0 control=52 value=0 time=0\n",
      "control_change channel=0 control=52 value=0 time=0\n",
      "control_change channel=0 control=52 value=0 time=0\n",
      "control_change channel=0 control=52 value=0 time=0\n",
      "control_change channel=0 control=52 value=0 time=0\n",
      "control_change channel=0 control=52 value=0 time=0\n",
      "control_change channel=0 control=54 value=0 time=0\n",
      "control_change channel=0 control=52 value=0 time=0\n",
      "control_change channel=0 control=53 value=0 time=0\n",
      "control_change channel=0 control=53 value=0 time=0\n",
      "control_change channel=0 control=50 value=59 time=0\n",
      "control_change channel=0 control=48 value=1 time=0\n",
      "control_change channel=0 control=50 value=60 time=0\n",
      "control_change channel=0 control=48 value=0 time=0\n",
      "control_change channel=0 control=48 value=0 time=0\n",
      "control_change channel=0 control=49 value=55 time=0\n",
      "control_change channel=0 control=55 value=2 time=0\n",
      "control_change channel=0 control=49 value=56 time=0\n",
      "control_change channel=0 control=49 value=58 time=0\n",
      "control_change channel=0 control=52 value=2 time=0\n",
      "control_change channel=0 control=49 value=62 time=0\n",
      "control_change channel=0 control=48 value=1 time=0\n",
      "control_change channel=0 control=49 value=65 time=0\n",
      "control_change channel=0 control=48 value=3 time=0\n",
      "control_change channel=0 control=49 value=69 time=0\n",
      "control_change channel=0 control=48 value=6 time=0\n",
      "control_change channel=0 control=49 value=71 time=0\n",
      "control_change channel=0 control=48 value=8 time=0\n",
      "control_change channel=0 control=49 value=73 time=0\n",
      "control_change channel=0 control=48 value=11 time=0\n",
      "control_change channel=0 control=52 value=15 time=0\n",
      "control_change channel=0 control=48 value=12 time=0\n",
      "control_change channel=0 control=52 value=19 time=0\n",
      "control_change channel=0 control=48 value=14 time=0\n",
      "control_change channel=0 control=52 value=21 time=0\n",
      "control_change channel=0 control=49 value=74 time=0\n",
      "control_change channel=0 control=52 value=23 time=0\n",
      "control_change channel=0 control=48 value=16 time=0\n",
      "control_change channel=0 control=52 value=25 time=0\n",
      "control_change channel=0 control=48 value=17 time=0\n",
      "control_change channel=0 control=52 value=27 time=0\n",
      "control_change channel=0 control=48 value=19 time=0\n",
      "control_change channel=0 control=55 value=0 time=0\n",
      "control_change channel=0 control=52 value=29 time=0\n",
      "control_change channel=0 control=55 value=0 time=0\n",
      "control_change channel=0 control=48 value=20 time=0\n",
      "control_change channel=0 control=55 value=0 time=0\n",
      "control_change channel=0 control=48 value=21 time=0\n",
      "control_change channel=0 control=52 value=30 time=0\n",
      "control_change channel=0 control=55 value=0 time=0\n",
      "control_change channel=0 control=52 value=31 time=0\n",
      "control_change channel=0 control=48 value=22 time=0\n",
      "control_change channel=0 control=52 value=32 time=0\n",
      "control_change channel=0 control=48 value=23 time=0\n",
      "control_change channel=0 control=52 value=33 time=0\n",
      "control_change channel=0 control=49 value=73 time=0\n",
      "control_change channel=0 control=52 value=35 time=0\n",
      "control_change channel=0 control=48 value=24 time=0\n",
      "control_change channel=0 control=48 value=25 time=0\n",
      "control_change channel=0 control=52 value=38 time=0\n",
      "control_change channel=0 control=48 value=27 time=0\n",
      "control_change channel=0 control=52 value=40 time=0\n",
      "control_change channel=0 control=48 value=28 time=0\n",
      "control_change channel=0 control=52 value=42 time=0\n",
      "control_change channel=0 control=48 value=30 time=0\n",
      "control_change channel=0 control=50 value=59 time=0\n",
      "control_change channel=0 control=48 value=33 time=0\n",
      "control_change channel=0 control=52 value=46 time=0\n",
      "control_change channel=0 control=48 value=35 time=0\n",
      "control_change channel=0 control=50 value=58 time=0\n",
      "control_change channel=0 control=48 value=38 time=0\n",
      "control_change channel=0 control=50 value=57 time=0\n",
      "control_change channel=0 control=48 value=41 time=0\n",
      "control_change channel=0 control=49 value=74 time=0\n",
      "control_change channel=0 control=48 value=44 time=0\n",
      "control_change channel=0 control=50 value=54 time=0\n",
      "control_change channel=0 control=48 value=47 time=0\n",
      "control_change channel=0 control=50 value=53 time=0\n",
      "control_change channel=0 control=48 value=50 time=0\n",
      "control_change channel=0 control=49 value=75 time=0\n",
      "control_change channel=0 control=48 value=53 time=0\n",
      "control_change channel=0 control=50 value=50 time=0\n",
      "control_change channel=0 control=48 value=56 time=0\n",
      "control_change channel=0 control=50 value=48 time=0\n",
      "control_change channel=0 control=48 value=59 time=0\n",
      "control_change channel=0 control=49 value=76 time=0\n",
      "control_change channel=0 control=48 value=61 time=0\n",
      "control_change channel=0 control=50 value=45 time=0\n",
      "control_change channel=0 control=48 value=64 time=0\n",
      "control_change channel=0 control=50 value=43 time=0\n",
      "control_change channel=0 control=48 value=66 time=0\n",
      "control_change channel=0 control=50 value=41 time=0\n",
      "control_change channel=0 control=48 value=68 time=0\n",
      "control_change channel=0 control=50 value=40 time=0\n",
      "control_change channel=0 control=48 value=70 time=0\n",
      "control_change channel=0 control=50 value=38 time=0\n",
      "control_change channel=0 control=48 value=72 time=0\n",
      "control_change channel=0 control=50 value=36 time=0\n",
      "control_change channel=0 control=50 value=34 time=0\n",
      "control_change channel=0 control=48 value=74 time=0\n",
      "control_change channel=0 control=50 value=33 time=0\n",
      "control_change channel=0 control=48 value=75 time=0\n",
      "control_change channel=0 control=50 value=31 time=0\n",
      "control_change channel=0 control=50 value=30 time=0\n",
      "control_change channel=0 control=52 value=74 time=0\n",
      "control_change channel=0 control=48 value=76 time=0\n",
      "control_change channel=0 control=50 value=28 time=0\n",
      "control_change channel=0 control=50 value=27 time=0\n",
      "control_change channel=0 control=50 value=25 time=0\n",
      "control_change channel=0 control=50 value=24 time=0\n",
      "control_change channel=0 control=50 value=23 time=0\n",
      "control_change channel=6 control=7 value=4 time=0\n",
      "control_change channel=6 control=7 value=7 time=0\n",
      "control_change channel=6 control=7 value=8 time=0\n",
      "control_change channel=7 control=7 value=2 time=0\n",
      "control_change channel=6 control=7 value=6 time=0\n",
      "control_change channel=6 control=7 value=3 time=0\n",
      "control_change channel=6 control=7 value=1 time=0\n",
      "control_change channel=6 control=7 value=0 time=0\n",
      "control_change channel=7 control=7 value=0 time=0\n"
     ]
    }
   ],
   "source": [
    "for mess in filter(lambda d: d[\"controller\"] == \"B\" and d[\"type\"] == \"control_change\", messages):\n",
    "    print(mess[\"arg\"])"
   ]
  },
  {
   "cell_type": "code",
   "execution_count": null,
   "metadata": {},
   "outputs": [],
   "source": []
  }
 ],
 "metadata": {
  "kernelspec": {
   "display_name": "main",
   "language": "python",
   "name": "python3"
  },
  "language_info": {
   "codemirror_mode": {
    "name": "ipython",
    "version": 3
   },
   "file_extension": ".py",
   "mimetype": "text/x-python",
   "name": "python",
   "nbconvert_exporter": "python",
   "pygments_lexer": "ipython3",
   "version": "3.10.4"
  },
  "orig_nbformat": 4,
  "vscode": {
   "interpreter": {
    "hash": "1bb1d446d2b1a882b2b80808e0049db32a4e04638c5079d1889cd51fa073c0aa"
   }
  }
 },
 "nbformat": 4,
 "nbformat_minor": 2
}
